{
 "cells": [
  {
   "cell_type": "code",
   "execution_count": 26,
   "metadata": {
    "collapsed": true
   },
   "outputs": [],
   "source": [
    "%matplotlib inline\n",
    "import matplotlib.pyplot as plt\n",
    "import numpy as np\n",
    "import matplotlib.pyplot as plt\n",
    "from ipywidgets import interact\n"
   ]
  },
  {
   "cell_type": "markdown",
   "metadata": {},
   "source": [
    "In this notebook, we solve a storage flow relationship, assuming the so-called Muskingum equation. An important law we use (as always) is the continuity equation (i.e. how much flow goes into and out of a given river section, how much does this change the storage?)\n",
    "\n",
    "$$\n",
    "\\frac{\\partial{A}}{\\partial{t}} + \\frac{\\partial{Q}}{\\partial{x}} = 0\n",
    "$$\n",
    "\n",
    "Here $A$ [L$^2$] is the wetted cross-section, $t$ is the time [T], $Q$ [L$^3$ T$^{-1}$] is the flow and $x$ is the longitudinal position [L], usually we use meters and seconds for the magnitudes L and T.\n",
    "\n",
    "We can integrate this equation over a certain length $x$ and simply look at the storage over a given channel section $S$, assuming that at any moment in time $S=Ax$, yielding:\n",
    "\n",
    "$$\n",
    "\\frac{\\Delta A\\ x}{\\Delta{t}} + \\Delta{Q} = 0\n",
    "$$\n",
    "or in simpler terms:\n",
    "$$\n",
    "\\frac{\\Delta S}{\\Delta t} = -\\Delta Q\n",
    "$$\n",
    "When integrating over a certain time span $t_1$ until $t_2$ we yield:\n",
    "$$\n",
    "\\frac{S_2-S_1}{\\Delta t}=0.5\\left(I_1+I_2\\right)-0.5\\left(O_1+O_2\\right)\n",
    "$$\n",
    "where $I$ and $O$ represent $Q$ at the inflow and outflow boundaries of the channel stretch $x$ respectively. \n",
    "\n",
    "Ok, so far we have only simplified the continuity equation. Now we need a storage-flow relationship. Muskingum assumes that the storage can be described with a linear relationship of the  weighted average of inflows and outflows in a given channel section. ADD EXPLANATION, WHAT DOES THIS MEAN IN PRACTICE?\n",
    "\n",
    "$$\n",
    "S=k\\left[fI+\\left(1-f\\right)O\\right]\n",
    "$$\n",
    "It is pretty easy to see that this relationship approaches a linear reservoir when $f$ approaches 0. We can also subsitute this in the earlier found discretized continuity equation:\n",
    "$$\n",
    "\\frac{k}{\\Delta t}\\left[f\\left(I_2-I_1\\right)+\\left(1-f\\right)\\left(O_2-O_1\\right)\\right]=0.5\\left(I_1+I_2\\right)-0.5\\left(O_1+O_2\\right)\n",
    "$$\n",
    "This allows us to relate the outflow from a storage section at a future time step to the inflows over the time step and outflow over the previous time step. Reordering then provides:\n",
    "$$\n",
    "S_2 = c_0I_2+c_1I_1 + c_2O_1\n",
    "$$\n",
    "with:\n",
    "$$\n",
    "c_0 = \\frac{-2f+\\Delta t/k}{2\\left(1-f\\right)+\\Delta t/k}, \n",
    "c_1 = \\frac{2f+\\Delta t/k}{2\\left(1-f\\right)+\\Delta t/k}, \n",
    "c_2 = \\frac{2\\left(1-f\\right)-\\Delta t/k}{2\\left(1-f\\right)+\\Delta t/k}\n",
    "$$\n",
    "Ok, this is extremely simple! Let's put this in a little model!"
   ]
  },
  {
   "cell_type": "code",
   "execution_count": 117,
   "metadata": {},
   "outputs": [],
   "source": [
    "\n",
    "class simple_runoff(object):\n",
    "    \"\"\"\n",
    "    A very very simple rainfall runoff response model, computing specific runoff as follows:\n",
    "    q = max(P-I, 0)*rc\n",
    "    where P is precipitation in mm per day, I is interception in mm/day, rc is runoff coefficient [-]\n",
    "    Consequently, it will compute flows at the outlet as follows:\n",
    "    Q(t) = q(t)A * f(t)\n",
    "    It will convert flows to m3/s (instead of day) before returning\n",
    "    where f(t) is a unit hydrograph convolution function, computed assuming a triangular shape,\n",
    "        with a time of concentration given in days\n",
    "    Input:\n",
    "        I: interception threshold [mm/day]\n",
    "        rc: runoff coefficient [-]\n",
    "        A: catchment surface area [km2]\n",
    "        t_c: time of concentration [day]\n",
    "    \"\"\"\n",
    "    def __init__(self, I, rc, A, t_c):\n",
    "        self.I = I\n",
    "        self.rc = rc\n",
    "        self.A = A\n",
    "        self.t_c = t_c\n",
    "        self.triangle_UH()\n",
    "        \n",
    "    def triangle_UH(self):\n",
    "        \"\"\"\n",
    "        Make a unit hydrograph assuming a time of concentration in time steps\n",
    "        \"\"\"\n",
    "        uh_right = np.append(np.linspace(0, 1, self.t_c), np.linspace(1, 0, self.t_c)[1:])\n",
    "        uh_left = np.zeros(len(uh_right))\n",
    "        self.conv = np.append(uh_left, uh_right)/uh_right.sum()\n",
    "\n",
    "    def compute_flows(self, P):\n",
    "        q = np.maximum(P-self.I, 0)*self.rc\n",
    "        _Q = np.convolve(q*A*1e3/86400, self.conv, 'same')\n",
    "        return pd.Series(_Q, index=pd.DatetimeIndex(start=P.index[0], periods=len(_Q), freq=P.index.freqstr))\n",
    "        \n",
    "class Muskingum(object):\n",
    "    def __init__(self, k, f, dt):\n",
    "        self.k = k  # residence time\n",
    "        self.f = f  # weighting factor\n",
    "        self.dt = dt\n",
    "        self.c0 = (-2*f+dt/k)/(2*(1-f)+dt/k)\n",
    "        self.c1 = (2*f+dt/k)/(2*(1-f)+dt/k)\n",
    "        self.c2 = (2*(1-f)-dt/k)/(2*(1-f)+dt/k)\n",
    "    \n",
    "    def compute_O_2(self, I_1, I_2, O_1):\n",
    "        # check for NaNs in O_1\n",
    "        if np.isnan(O_1):\n",
    "            O_1 = 0\n",
    "        return self.c0*I_2+self.c1*I_1+self.c2*O_1\n",
    "\n",
    "    def compute_outflows(self, s_inflows):\n",
    "        s_outflows = pd.Series(index=s_inflows.index, )\n",
    "        for _i in range(1, len(s_inflows)):\n",
    "            s_outflows.iloc[_i] = compute_O_2(s_inflows.iloc[_i-1], s_inflows.iloc[_i], s_outflows.iloc[_i-1])\n",
    "        return s_outflows\n"
   ]
  },
  {
   "cell_type": "code",
   "execution_count": 84,
   "metadata": {},
   "outputs": [
    {
     "data": {
      "text/plain": [
       "Timestamp('2001-01-01 00:00:00', freq='D')"
      ]
     },
     "execution_count": 84,
     "metadata": {},
     "output_type": "execute_result"
    }
   ],
   "source": [
    "import pandas as pd\n",
    "\n",
    "s = pd.Series(index=pd.DatetimeIndex(start='2001-01-01', end='2001-01-30', freq='D'))\n",
    "s2 = pd.Series()\n",
    "P.index[0]"
   ]
  },
  {
   "cell_type": "code",
   "execution_count": 116,
   "metadata": {},
   "outputs": [],
   "source": [
    "# prepare some flows from a unit hydrograph principe\n",
    "p = np.array([0., 5., 20., 18., 15., 12., 8., 10., 2., 0., 0.])\n",
    "P = pd.Series(p, index=pd.DatetimeIndex(start='2001-01-01', periods=len(p), freq='D'))  # mm/day\n",
    "\n",
    "# make a model\n",
    "I = 3. # interception threshold [mm/day]\n",
    "rc = 0.5# event runoff coefficient [-]\n",
    "A = 150000 # surface of catchment [km2]\n",
    "t_c = 5\n",
    "runoff_model = simple_runoff(I, rc, A, t_c)\n",
    "Q = runoff_model.compute_flows(P)\n"
   ]
  },
  {
   "cell_type": "code",
   "execution_count": 115,
   "metadata": {},
   "outputs": [
    {
     "data": {
      "text/plain": [
       "<matplotlib.axes._subplots.AxesSubplot at 0xfcacd30>"
      ]
     },
     "execution_count": 115,
     "metadata": {},
     "output_type": "execute_result"
    },
    {
     "data": {
      "image/png": "[encoded data removed]",
      "text/plain": [
       "<matplotlib.figure.Figure at 0xfd67128>"
      ]
     },
     "metadata": {},
     "output_type": "display_data"
    }
   ],
   "source": [
    "ax = plt.axes()\n",
    "\n",
    "df = pd.DataFrame({'P': P, 'Q': Q})\n",
    "df['P'].plot(ax=ax, secondary_y=True, label='rainfall')\n",
    "df['Q'].plot(ax=ax, label='Discharge')"
   ]
  },
  {
   "cell_type": "code",
   "execution_count": null,
   "metadata": {},
   "outputs": [],
   "source": []
  },
  {
   "cell_type": "code",
   "execution_count": null,
   "metadata": {
    "collapsed": true
   },
   "outputs": [],
   "source": []
  }
 ],
 "metadata": {
  "kernelspec": {
   "display_name": "Python 2",
   "language": "python",
   "name": "python2"
  },
  "language_info": {
   "codemirror_mode": {
    "name": "ipython",
    "version": 2
   },
   "file_extension": ".py",
   "mimetype": "text/x-python",
   "name": "python",
   "nbconvert_exporter": "python",
   "pygments_lexer": "ipython2",
   "version": "2.7.13"
  }
 },
 "nbformat": 4,
 "nbformat_minor": 2
}
