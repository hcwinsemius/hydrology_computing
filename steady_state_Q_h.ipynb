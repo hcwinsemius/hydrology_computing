{
 "cells": [
  {
   "cell_type": "markdown",
   "metadata": {},
   "source": [
    "# steady state kinematic wave in numpy, displayed with a widget #\n",
    "### By Dr. H. C. Winsemius ###"
   ]
  },
  {
   "cell_type": "markdown",
   "metadata": {},
   "source": [
    "Let's build a simple steady state 1D model with a constant flow in a rectangular channel. We'll check the impact of boundary condition values width and roughness on the resulting water levels"
   ]
  },
  {
   "cell_type": "code",
   "execution_count": 1,
   "metadata": {
    "collapsed": false
   },
   "outputs": [],
   "source": [
    "# import packages\n",
    "%matplotlib inline\n",
    "import numpy as np\n",
    "import matplotlib.pyplot as plt\n",
    "from ipywidgets import interact\n",
    "# from ipywidgets import StaticInteract, RangeWidget, RadioWidget\n",
    "\n"
   ]
  },
  {
   "cell_type": "markdown",
   "metadata": {},
   "source": [
    "The equations we are solving represent the continuity equation (how much flow goes into and out of a given section, how much does this change the storage?)\n",
    "\n",
    "$$\n",
    "\\frac{\\partial{A}}{\\partial{t}} + \\frac{\\partial{Q}}{\\partial{x}} = q\n",
    "$$\n",
    "\n",
    "And the momentum equation (simplified by reducing the local inertia terms to zero)\n",
    "\n"
   ]
  },
  {
   "cell_type": "markdown",
   "metadata": {},
   "source": [
    "Full Saint Venant equation (without wind friction considered) reads as:\n",
    "Local intertia + advection + gravitation + hydraulic roughness:\n",
    "\n",
    "$$\n",
    "\\frac{\\partial Q}{\\partial t} + \\frac{\\partial}{\\partial x}\\left(\\frac{Q^2}{A}\\right)+gA\\frac{\\partial \\left(h+z\\right)}{\\partial x}+\\frac{gn^2Q|Q|}{R^{4/3}A}=0\n",
    "$$\n",
    "\n",
    "In these equations, $A$ [L$^2$] is the wetted cross-section, $t$ is the time [T], $Q$ [L$^3$ T$^{-1}$] is the flow and $x$ is the longitudinal position [L], usually we use meters and seconds for the magnitudes L and T."
   ]
  },
  {
   "cell_type": "markdown",
   "metadata": {},
   "source": [
    "We assume local inertia is negligible and we use a steady state solution, meaning that any differential over $t$ is zero. This yields:\n",
    "\n",
    "$$\n",
    "\\frac{\\partial Q}{\\partial x}=q\n",
    "$$\n",
    "\n",
    "and\n",
    "for our continuity equation\n",
    "\n",
    "$$\n",
    "A\\frac{\\partial \\left(h+z\\right)}{\\partial x}+\\frac{n^2Q|Q|}{R^{4/3}A}=0 \\\\\n",
    "$$\n",
    "\n",
    "Moving $Q$ to the lhs we get:\n",
    "\n",
    "$$\n",
    "Q^2=\\frac{1}{n^2}A^2R^{4/3}\\frac{\\partial \\left(h+z\\right)}{\\partial x}\n",
    "$$\n",
    "\n",
    "and\n",
    "\n",
    "$$\n",
    "Q=\\frac{1}{n}AR^{2/3}\\left(\\frac{\\partial \\left(h+z\\right)}{\\partial x}\\right)^{1/2}\n",
    "$$\n",
    "\n",
    "Assuming $R=h$ (the case with relatively wide channels) and $A = Bh$ gives\n",
    "\n",
    "$$\n",
    "Q=\\frac{B}{n}h^{5/3}\\left(\\frac{\\partial \\left(h+z\\right)}{\\partial x}\\right)^{1/2}\n",
    "$$\n",
    "\n",
    "In the steady-state case we can assume that the slope of the water level $\\left(\\partial{h+z}/\\partial x\\right)$ equals the bottom slope, so we replace this terms by a constant $s_b$ and solve this for $h$. \n",
    "$$\n",
    "h = \\left(\\frac{Qn}{Bs_b^{1/2}}\\right)^{3/5}\n",
    "$$\n",
    "\n"
   ]
  },
  {
   "cell_type": "markdown",
   "metadata": {},
   "source": [
    "This is the so-called kinematic wave equation. It can only be used in a (quasi-) steady state assumption. So $Q$ and $h$ should not vary significantly in time!! Also, influence of a downstream boundary cannot be applied. In our case we assume a fully steady state conditionWe solve this with a plotting code below"
   ]
  },
  {
   "cell_type": "code",
   "execution_count": 3,
   "metadata": {
    "collapsed": false
   },
   "outputs": [
    {
     "data": {
      "image/png": "[encoded data removed]",
      "text/plain": [
       "<matplotlib.figure.Figure at 0x6727400>"
      ]
     },
     "metadata": {},
     "output_type": "display_data"
    }
   ],
   "source": [
    "def plot_h(Q, slope, n, B):\n",
    "    \"\"\"\n",
    "    explicit solver (1-step ahead) for a 1-dimensional domain, \n",
    "    \n",
    "    \n",
    "    \"\"\"\n",
    "    ylim=[0., 5.]\n",
    "    xlim=[-1000, 1000]\n",
    "    # compute h\n",
    "    num = float(Q)*n\n",
    "    denom = float(B)*slope**0.5\n",
    "    h = (num/denom)**(3./5)\n",
    "    \n",
    "    # now plot\n",
    "    plt.figure(figsize=(15, 5))\n",
    "    plt.plot([-0.5*B, 0.5*B], [0, 0], 'k', label='bottom')\n",
    "    plt.fill_between([-0.5*B, 0.5*B], [h, h], alpha=0.5, label='h = {:f}'.format(h))\n",
    "    plt.plot([-0.5*B, -0.5*B], ylim, 'k--', label='banks')\n",
    "    plt.plot([0.5*B, 0.5*B], ylim, 'k--')\n",
    "    plt.xlim(xlim)\n",
    "    plt.ylim(ylim)\n",
    "    plt.legend()\n",
    "#     return h\n",
    "Q = 12000\n",
    "B = 800\n",
    "slope = 0.01\n",
    "n = 0.05\n",
    "interact(plot_h,\n",
    "               Q=(500., 15000., 1.),\n",
    "               slope=(.0001, 0.3, 0.0001),\n",
    "               n=(0.001, 0.2, 0.001),\n",
    "               B=(100, 2000, 1)\n",
    "              )\n",
    "# h = plot_h(Q, slope, n, B)"
   ]
  },
  {
   "cell_type": "code",
   "execution_count": null,
   "metadata": {
    "collapsed": true
   },
   "outputs": [],
   "source": []
  }
 ],
 "metadata": {
  "kernelspec": {
   "display_name": "Python 2",
   "language": "python",
   "name": "python2"
  },
  "language_info": {
   "codemirror_mode": {
    "name": "ipython",
    "version": 2
   },
   "file_extension": ".py",
   "mimetype": "text/x-python",
   "name": "python",
   "nbconvert_exporter": "python",
   "pygments_lexer": "ipython2",
   "version": "2.7.13"
  },
  "widgets": {
   "state": {
    "2828c0ef2bd64d29b9e0be1bfca14ee6": {
     "views": [
      {
       "cell_index": 7
      }
     ]
    }
   },
   "version": "1.2.0"
  }
 },
 "nbformat": 4,
 "nbformat_minor": 2
}
